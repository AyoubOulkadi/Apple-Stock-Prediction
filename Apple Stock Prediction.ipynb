{
  "cells": [
    {
      "cell_type": "code",
      "execution_count": null,
      "id": "00eddaea",
      "metadata": {
        "id": "00eddaea"
      },
      "outputs": [],
      "source": [
        "import numpy as np\n",
        "import pandas as pd\n",
        "import matplotlib.pyplot as plt\n",
        "import seaborn as sns \n",
        "import os "
      ]
    },
    {
      "cell_type": "markdown",
      "id": "9b4SYedEHmqu",
      "metadata": {
        "id": "9b4SYedEHmqu"
      },
      "source": [
        "Importation des données "
      ]
    },
    {
      "cell_type": "code",
      "execution_count": null,
      "id": "b20b388f",
      "metadata": {
        "id": "b20b388f",
        "outputId": "4d8f5c7c-c59d-4595-9200-cb9a434f1db6"
      },
      "outputs": [
        {
          "data": {
            "text/html": [
              "<div>\n",
              "<style scoped>\n",
              "    .dataframe tbody tr th:only-of-type {\n",
              "        vertical-align: middle;\n",
              "    }\n",
              "\n",
              "    .dataframe tbody tr th {\n",
              "        vertical-align: top;\n",
              "    }\n",
              "\n",
              "    .dataframe thead th {\n",
              "        text-align: right;\n",
              "    }\n",
              "</style>\n",
              "<table border=\"1\" class=\"dataframe\">\n",
              "  <thead>\n",
              "    <tr style=\"text-align: right;\">\n",
              "      <th></th>\n",
              "      <th>Date</th>\n",
              "      <th>Open</th>\n",
              "      <th>High</th>\n",
              "      <th>Low</th>\n",
              "      <th>Close</th>\n",
              "      <th>Volume</th>\n",
              "      <th>Dividends</th>\n",
              "      <th>Stock Splits</th>\n",
              "    </tr>\n",
              "  </thead>\n",
              "  <tbody>\n",
              "    <tr>\n",
              "      <th>0</th>\n",
              "      <td>1980-12-12</td>\n",
              "      <td>0.100453</td>\n",
              "      <td>0.100890</td>\n",
              "      <td>0.100453</td>\n",
              "      <td>0.100453</td>\n",
              "      <td>469033600</td>\n",
              "      <td>0.0</td>\n",
              "      <td>0.0</td>\n",
              "    </tr>\n",
              "    <tr>\n",
              "      <th>1</th>\n",
              "      <td>1980-12-15</td>\n",
              "      <td>0.095649</td>\n",
              "      <td>0.095649</td>\n",
              "      <td>0.095213</td>\n",
              "      <td>0.095213</td>\n",
              "      <td>175884800</td>\n",
              "      <td>0.0</td>\n",
              "      <td>0.0</td>\n",
              "    </tr>\n",
              "    <tr>\n",
              "      <th>2</th>\n",
              "      <td>1980-12-16</td>\n",
              "      <td>0.088661</td>\n",
              "      <td>0.088661</td>\n",
              "      <td>0.088224</td>\n",
              "      <td>0.088224</td>\n",
              "      <td>105728000</td>\n",
              "      <td>0.0</td>\n",
              "      <td>0.0</td>\n",
              "    </tr>\n",
              "    <tr>\n",
              "      <th>3</th>\n",
              "      <td>1980-12-17</td>\n",
              "      <td>0.090408</td>\n",
              "      <td>0.090845</td>\n",
              "      <td>0.090408</td>\n",
              "      <td>0.090408</td>\n",
              "      <td>86441600</td>\n",
              "      <td>0.0</td>\n",
              "      <td>0.0</td>\n",
              "    </tr>\n",
              "    <tr>\n",
              "      <th>4</th>\n",
              "      <td>1980-12-18</td>\n",
              "      <td>0.093029</td>\n",
              "      <td>0.093466</td>\n",
              "      <td>0.093029</td>\n",
              "      <td>0.093029</td>\n",
              "      <td>73449600</td>\n",
              "      <td>0.0</td>\n",
              "      <td>0.0</td>\n",
              "    </tr>\n",
              "    <tr>\n",
              "      <th>...</th>\n",
              "      <td>...</td>\n",
              "      <td>...</td>\n",
              "      <td>...</td>\n",
              "      <td>...</td>\n",
              "      <td>...</td>\n",
              "      <td>...</td>\n",
              "      <td>...</td>\n",
              "      <td>...</td>\n",
              "    </tr>\n",
              "    <tr>\n",
              "      <th>10348</th>\n",
              "      <td>2021-12-28</td>\n",
              "      <td>180.160004</td>\n",
              "      <td>181.330002</td>\n",
              "      <td>178.529999</td>\n",
              "      <td>179.289993</td>\n",
              "      <td>79144300</td>\n",
              "      <td>0.0</td>\n",
              "      <td>0.0</td>\n",
              "    </tr>\n",
              "    <tr>\n",
              "      <th>10349</th>\n",
              "      <td>2021-12-29</td>\n",
              "      <td>179.330002</td>\n",
              "      <td>180.630005</td>\n",
              "      <td>178.139999</td>\n",
              "      <td>179.380005</td>\n",
              "      <td>62348900</td>\n",
              "      <td>0.0</td>\n",
              "      <td>0.0</td>\n",
              "    </tr>\n",
              "    <tr>\n",
              "      <th>10350</th>\n",
              "      <td>2021-12-30</td>\n",
              "      <td>179.470001</td>\n",
              "      <td>180.570007</td>\n",
              "      <td>178.089996</td>\n",
              "      <td>178.199997</td>\n",
              "      <td>59773000</td>\n",
              "      <td>0.0</td>\n",
              "      <td>0.0</td>\n",
              "    </tr>\n",
              "    <tr>\n",
              "      <th>10351</th>\n",
              "      <td>2021-12-31</td>\n",
              "      <td>178.089996</td>\n",
              "      <td>179.229996</td>\n",
              "      <td>177.259995</td>\n",
              "      <td>177.570007</td>\n",
              "      <td>64025500</td>\n",
              "      <td>0.0</td>\n",
              "      <td>0.0</td>\n",
              "    </tr>\n",
              "    <tr>\n",
              "      <th>10352</th>\n",
              "      <td>2022-01-03</td>\n",
              "      <td>177.830002</td>\n",
              "      <td>182.880005</td>\n",
              "      <td>177.710007</td>\n",
              "      <td>182.009995</td>\n",
              "      <td>104487900</td>\n",
              "      <td>0.0</td>\n",
              "      <td>0.0</td>\n",
              "    </tr>\n",
              "  </tbody>\n",
              "</table>\n",
              "<p>10353 rows × 8 columns</p>\n",
              "</div>"
            ],
            "text/plain": [
              "             Date        Open        High         Low       Close     Volume  \\\n",
              "0      1980-12-12    0.100453    0.100890    0.100453    0.100453  469033600   \n",
              "1      1980-12-15    0.095649    0.095649    0.095213    0.095213  175884800   \n",
              "2      1980-12-16    0.088661    0.088661    0.088224    0.088224  105728000   \n",
              "3      1980-12-17    0.090408    0.090845    0.090408    0.090408   86441600   \n",
              "4      1980-12-18    0.093029    0.093466    0.093029    0.093029   73449600   \n",
              "...           ...         ...         ...         ...         ...        ...   \n",
              "10348  2021-12-28  180.160004  181.330002  178.529999  179.289993   79144300   \n",
              "10349  2021-12-29  179.330002  180.630005  178.139999  179.380005   62348900   \n",
              "10350  2021-12-30  179.470001  180.570007  178.089996  178.199997   59773000   \n",
              "10351  2021-12-31  178.089996  179.229996  177.259995  177.570007   64025500   \n",
              "10352  2022-01-03  177.830002  182.880005  177.710007  182.009995  104487900   \n",
              "\n",
              "       Dividends  Stock Splits  \n",
              "0            0.0           0.0  \n",
              "1            0.0           0.0  \n",
              "2            0.0           0.0  \n",
              "3            0.0           0.0  \n",
              "4            0.0           0.0  \n",
              "...          ...           ...  \n",
              "10348        0.0           0.0  \n",
              "10349        0.0           0.0  \n",
              "10350        0.0           0.0  \n",
              "10351        0.0           0.0  \n",
              "10352        0.0           0.0  \n",
              "\n",
              "[10353 rows x 8 columns]"
            ]
          },
          "execution_count": 4,
          "metadata": {},
          "output_type": "execute_result"
        }
      ],
      "source": [
        "\n",
        "dataframe=pd.read_csv('Apple_stock_history.csv')\n",
        "dataframe\n",
        "df=dataframe.copy()\n",
        "df\n"
      ]
    },
    {
      "attachments": {},
      "cell_type": "markdown",
      "id": "c6c85c57",
      "metadata": {},
      "source": [
        "**Checker s'il y a des NAN dans les données** "
      ]
    },
    {
      "cell_type": "code",
      "execution_count": null,
      "id": "35ed10e5",
      "metadata": {
        "id": "35ed10e5",
        "outputId": "fcc6718b-94d1-4759-e1e0-fc8272033c7b"
      },
      "outputs": [
        {
          "data": {
            "text/plain": [
              "Date            0\n",
              "Open            0\n",
              "High            0\n",
              "Low             0\n",
              "Close           0\n",
              "Volume          0\n",
              "Dividends       0\n",
              "Stock Splits    0\n",
              "dtype: int64"
            ]
          },
          "execution_count": 5,
          "metadata": {},
          "output_type": "execute_result"
        }
      ],
      "source": [
        "\n",
        "\n",
        "df.isnull().sum()"
      ]
    },
    {
      "cell_type": "code",
      "execution_count": null,
      "id": "0142504c",
      "metadata": {
        "id": "0142504c",
        "outputId": "de3a8128-5571-4276-ba8e-0509a4f4bb3a"
      },
      "outputs": [
        {
          "data": {
            "text/plain": [
              "(10353, 8)"
            ]
          },
          "execution_count": 6,
          "metadata": {},
          "output_type": "execute_result"
        }
      ],
      "source": [
        "df.shape"
      ]
    },
    {
      "attachments": {},
      "cell_type": "markdown",
      "id": "bd1e82e8",
      "metadata": {},
      "source": [
        "**Obtenir les informations statistiques sur les données**"
      ]
    },
    {
      "cell_type": "code",
      "execution_count": null,
      "id": "210f8368",
      "metadata": {
        "id": "210f8368",
        "outputId": "09fb9674-7fb6-4f58-937a-6c0a18c99604"
      },
      "outputs": [
        {
          "data": {
            "text/html": [
              "<div>\n",
              "<style scoped>\n",
              "    .dataframe tbody tr th:only-of-type {\n",
              "        vertical-align: middle;\n",
              "    }\n",
              "\n",
              "    .dataframe tbody tr th {\n",
              "        vertical-align: top;\n",
              "    }\n",
              "\n",
              "    .dataframe thead th {\n",
              "        text-align: right;\n",
              "    }\n",
              "</style>\n",
              "<table border=\"1\" class=\"dataframe\">\n",
              "  <thead>\n",
              "    <tr style=\"text-align: right;\">\n",
              "      <th></th>\n",
              "      <th>Open</th>\n",
              "      <th>High</th>\n",
              "      <th>Low</th>\n",
              "      <th>Close</th>\n",
              "      <th>Volume</th>\n",
              "      <th>Dividends</th>\n",
              "      <th>Stock Splits</th>\n",
              "    </tr>\n",
              "  </thead>\n",
              "  <tbody>\n",
              "    <tr>\n",
              "      <th>count</th>\n",
              "      <td>10353.000000</td>\n",
              "      <td>10353.000000</td>\n",
              "      <td>10353.000000</td>\n",
              "      <td>10353.000000</td>\n",
              "      <td>1.035300e+04</td>\n",
              "      <td>10353.000000</td>\n",
              "      <td>10353.000000</td>\n",
              "    </tr>\n",
              "    <tr>\n",
              "      <th>mean</th>\n",
              "      <td>12.527827</td>\n",
              "      <td>12.662576</td>\n",
              "      <td>12.395203</td>\n",
              "      <td>12.534635</td>\n",
              "      <td>3.334582e+08</td>\n",
              "      <td>0.000572</td>\n",
              "      <td>0.001642</td>\n",
              "    </tr>\n",
              "    <tr>\n",
              "      <th>std</th>\n",
              "      <td>27.773063</td>\n",
              "      <td>28.085067</td>\n",
              "      <td>27.476340</td>\n",
              "      <td>27.797191</td>\n",
              "      <td>3.397992e+08</td>\n",
              "      <td>0.009675</td>\n",
              "      <td>0.086229</td>\n",
              "    </tr>\n",
              "    <tr>\n",
              "      <th>min</th>\n",
              "      <td>0.038871</td>\n",
              "      <td>0.038871</td>\n",
              "      <td>0.038434</td>\n",
              "      <td>0.038434</td>\n",
              "      <td>0.000000e+00</td>\n",
              "      <td>0.000000</td>\n",
              "      <td>0.000000</td>\n",
              "    </tr>\n",
              "    <tr>\n",
              "      <th>25%</th>\n",
              "      <td>0.234073</td>\n",
              "      <td>0.238832</td>\n",
              "      <td>0.228249</td>\n",
              "      <td>0.233785</td>\n",
              "      <td>1.259888e+08</td>\n",
              "      <td>0.000000</td>\n",
              "      <td>0.000000</td>\n",
              "    </tr>\n",
              "    <tr>\n",
              "      <th>50%</th>\n",
              "      <td>0.382599</td>\n",
              "      <td>0.388494</td>\n",
              "      <td>0.375505</td>\n",
              "      <td>0.382565</td>\n",
              "      <td>2.219952e+08</td>\n",
              "      <td>0.000000</td>\n",
              "      <td>0.000000</td>\n",
              "    </tr>\n",
              "    <tr>\n",
              "      <th>75%</th>\n",
              "      <td>11.813880</td>\n",
              "      <td>11.905433</td>\n",
              "      <td>11.657717</td>\n",
              "      <td>11.777137</td>\n",
              "      <td>4.150720e+08</td>\n",
              "      <td>0.000000</td>\n",
              "      <td>0.000000</td>\n",
              "    </tr>\n",
              "    <tr>\n",
              "      <th>max</th>\n",
              "      <td>181.119995</td>\n",
              "      <td>182.880005</td>\n",
              "      <td>178.529999</td>\n",
              "      <td>182.009995</td>\n",
              "      <td>7.421641e+09</td>\n",
              "      <td>0.220000</td>\n",
              "      <td>7.000000</td>\n",
              "    </tr>\n",
              "  </tbody>\n",
              "</table>\n",
              "</div>"
            ],
            "text/plain": [
              "               Open          High           Low         Close        Volume  \\\n",
              "count  10353.000000  10353.000000  10353.000000  10353.000000  1.035300e+04   \n",
              "mean      12.527827     12.662576     12.395203     12.534635  3.334582e+08   \n",
              "std       27.773063     28.085067     27.476340     27.797191  3.397992e+08   \n",
              "min        0.038871      0.038871      0.038434      0.038434  0.000000e+00   \n",
              "25%        0.234073      0.238832      0.228249      0.233785  1.259888e+08   \n",
              "50%        0.382599      0.388494      0.375505      0.382565  2.219952e+08   \n",
              "75%       11.813880     11.905433     11.657717     11.777137  4.150720e+08   \n",
              "max      181.119995    182.880005    178.529999    182.009995  7.421641e+09   \n",
              "\n",
              "          Dividends  Stock Splits  \n",
              "count  10353.000000  10353.000000  \n",
              "mean       0.000572      0.001642  \n",
              "std        0.009675      0.086229  \n",
              "min        0.000000      0.000000  \n",
              "25%        0.000000      0.000000  \n",
              "50%        0.000000      0.000000  \n",
              "75%        0.000000      0.000000  \n",
              "max        0.220000      7.000000  "
            ]
          },
          "execution_count": 7,
          "metadata": {},
          "output_type": "execute_result"
        }
      ],
      "source": [
        "df.describe()"
      ]
    },
    {
      "cell_type": "code",
      "execution_count": null,
      "id": "d2f0c6bc",
      "metadata": {
        "id": "d2f0c6bc",
        "outputId": "78027c09-0774-4855-a679-88d520144821"
      },
      "outputs": [
        {
          "name": "stdout",
          "output_type": "stream",
          "text": [
            "<class 'pandas.core.frame.DataFrame'>\n",
            "RangeIndex: 10353 entries, 0 to 10352\n",
            "Data columns (total 8 columns):\n",
            " #   Column        Non-Null Count  Dtype  \n",
            "---  ------        --------------  -----  \n",
            " 0   Date          10353 non-null  object \n",
            " 1   Open          10353 non-null  float64\n",
            " 2   High          10353 non-null  float64\n",
            " 3   Low           10353 non-null  float64\n",
            " 4   Close         10353 non-null  float64\n",
            " 5   Volume        10353 non-null  int64  \n",
            " 6   Dividends     10353 non-null  float64\n",
            " 7   Stock Splits  10353 non-null  float64\n",
            "dtypes: float64(6), int64(1), object(1)\n",
            "memory usage: 647.2+ KB\n"
          ]
        }
      ],
      "source": [
        "df.info()"
      ]
    },
    {
      "cell_type": "markdown",
      "id": "4c9cbaf5",
      "metadata": {
        "id": "4c9cbaf5"
      },
      "source": [
        "# Visualiser le mois ou on a la plus grande participation"
      ]
    },
    {
      "cell_type": "code",
      "execution_count": null,
      "id": "94a7b7fb",
      "metadata": {
        "id": "94a7b7fb",
        "outputId": "27807116-33f1-45bc-efea-efc106da1888"
      },
      "outputs": [
        {
          "data": {
            "text/html": [
              "<div>\n",
              "<style scoped>\n",
              "    .dataframe tbody tr th:only-of-type {\n",
              "        vertical-align: middle;\n",
              "    }\n",
              "\n",
              "    .dataframe tbody tr th {\n",
              "        vertical-align: top;\n",
              "    }\n",
              "\n",
              "    .dataframe thead th {\n",
              "        text-align: right;\n",
              "    }\n",
              "</style>\n",
              "<table border=\"1\" class=\"dataframe\">\n",
              "  <thead>\n",
              "    <tr style=\"text-align: right;\">\n",
              "      <th></th>\n",
              "      <th>Date</th>\n",
              "      <th>Open</th>\n",
              "      <th>High</th>\n",
              "      <th>Low</th>\n",
              "      <th>Close</th>\n",
              "      <th>Volume</th>\n",
              "      <th>Dividends</th>\n",
              "      <th>Stock Splits</th>\n",
              "    </tr>\n",
              "  </thead>\n",
              "  <tbody>\n",
              "    <tr>\n",
              "      <th>0</th>\n",
              "      <td>1980-12-12</td>\n",
              "      <td>0.100453</td>\n",
              "      <td>0.100890</td>\n",
              "      <td>0.100453</td>\n",
              "      <td>0.100453</td>\n",
              "      <td>469033600</td>\n",
              "      <td>0.0</td>\n",
              "      <td>0.0</td>\n",
              "    </tr>\n",
              "    <tr>\n",
              "      <th>1</th>\n",
              "      <td>1980-12-15</td>\n",
              "      <td>0.095649</td>\n",
              "      <td>0.095649</td>\n",
              "      <td>0.095213</td>\n",
              "      <td>0.095213</td>\n",
              "      <td>175884800</td>\n",
              "      <td>0.0</td>\n",
              "      <td>0.0</td>\n",
              "    </tr>\n",
              "    <tr>\n",
              "      <th>2</th>\n",
              "      <td>1980-12-16</td>\n",
              "      <td>0.088661</td>\n",
              "      <td>0.088661</td>\n",
              "      <td>0.088224</td>\n",
              "      <td>0.088224</td>\n",
              "      <td>105728000</td>\n",
              "      <td>0.0</td>\n",
              "      <td>0.0</td>\n",
              "    </tr>\n",
              "    <tr>\n",
              "      <th>3</th>\n",
              "      <td>1980-12-17</td>\n",
              "      <td>0.090408</td>\n",
              "      <td>0.090845</td>\n",
              "      <td>0.090408</td>\n",
              "      <td>0.090408</td>\n",
              "      <td>86441600</td>\n",
              "      <td>0.0</td>\n",
              "      <td>0.0</td>\n",
              "    </tr>\n",
              "    <tr>\n",
              "      <th>4</th>\n",
              "      <td>1980-12-18</td>\n",
              "      <td>0.093029</td>\n",
              "      <td>0.093466</td>\n",
              "      <td>0.093029</td>\n",
              "      <td>0.093029</td>\n",
              "      <td>73449600</td>\n",
              "      <td>0.0</td>\n",
              "      <td>0.0</td>\n",
              "    </tr>\n",
              "    <tr>\n",
              "      <th>...</th>\n",
              "      <td>...</td>\n",
              "      <td>...</td>\n",
              "      <td>...</td>\n",
              "      <td>...</td>\n",
              "      <td>...</td>\n",
              "      <td>...</td>\n",
              "      <td>...</td>\n",
              "      <td>...</td>\n",
              "    </tr>\n",
              "    <tr>\n",
              "      <th>10348</th>\n",
              "      <td>2021-12-28</td>\n",
              "      <td>180.160004</td>\n",
              "      <td>181.330002</td>\n",
              "      <td>178.529999</td>\n",
              "      <td>179.289993</td>\n",
              "      <td>79144300</td>\n",
              "      <td>0.0</td>\n",
              "      <td>0.0</td>\n",
              "    </tr>\n",
              "    <tr>\n",
              "      <th>10349</th>\n",
              "      <td>2021-12-29</td>\n",
              "      <td>179.330002</td>\n",
              "      <td>180.630005</td>\n",
              "      <td>178.139999</td>\n",
              "      <td>179.380005</td>\n",
              "      <td>62348900</td>\n",
              "      <td>0.0</td>\n",
              "      <td>0.0</td>\n",
              "    </tr>\n",
              "    <tr>\n",
              "      <th>10350</th>\n",
              "      <td>2021-12-30</td>\n",
              "      <td>179.470001</td>\n",
              "      <td>180.570007</td>\n",
              "      <td>178.089996</td>\n",
              "      <td>178.199997</td>\n",
              "      <td>59773000</td>\n",
              "      <td>0.0</td>\n",
              "      <td>0.0</td>\n",
              "    </tr>\n",
              "    <tr>\n",
              "      <th>10351</th>\n",
              "      <td>2021-12-31</td>\n",
              "      <td>178.089996</td>\n",
              "      <td>179.229996</td>\n",
              "      <td>177.259995</td>\n",
              "      <td>177.570007</td>\n",
              "      <td>64025500</td>\n",
              "      <td>0.0</td>\n",
              "      <td>0.0</td>\n",
              "    </tr>\n",
              "    <tr>\n",
              "      <th>10352</th>\n",
              "      <td>2022-01-03</td>\n",
              "      <td>177.830002</td>\n",
              "      <td>182.880005</td>\n",
              "      <td>177.710007</td>\n",
              "      <td>182.009995</td>\n",
              "      <td>104487900</td>\n",
              "      <td>0.0</td>\n",
              "      <td>0.0</td>\n",
              "    </tr>\n",
              "  </tbody>\n",
              "</table>\n",
              "<p>10353 rows × 8 columns</p>\n",
              "</div>"
            ],
            "text/plain": [
              "             Date        Open        High         Low       Close     Volume  \\\n",
              "0      1980-12-12    0.100453    0.100890    0.100453    0.100453  469033600   \n",
              "1      1980-12-15    0.095649    0.095649    0.095213    0.095213  175884800   \n",
              "2      1980-12-16    0.088661    0.088661    0.088224    0.088224  105728000   \n",
              "3      1980-12-17    0.090408    0.090845    0.090408    0.090408   86441600   \n",
              "4      1980-12-18    0.093029    0.093466    0.093029    0.093029   73449600   \n",
              "...           ...         ...         ...         ...         ...        ...   \n",
              "10348  2021-12-28  180.160004  181.330002  178.529999  179.289993   79144300   \n",
              "10349  2021-12-29  179.330002  180.630005  178.139999  179.380005   62348900   \n",
              "10350  2021-12-30  179.470001  180.570007  178.089996  178.199997   59773000   \n",
              "10351  2021-12-31  178.089996  179.229996  177.259995  177.570007   64025500   \n",
              "10352  2022-01-03  177.830002  182.880005  177.710007  182.009995  104487900   \n",
              "\n",
              "       Dividends  Stock Splits  \n",
              "0            0.0           0.0  \n",
              "1            0.0           0.0  \n",
              "2            0.0           0.0  \n",
              "3            0.0           0.0  \n",
              "4            0.0           0.0  \n",
              "...          ...           ...  \n",
              "10348        0.0           0.0  \n",
              "10349        0.0           0.0  \n",
              "10350        0.0           0.0  \n",
              "10351        0.0           0.0  \n",
              "10352        0.0           0.0  \n",
              "\n",
              "[10353 rows x 8 columns]"
            ]
          },
          "execution_count": 9,
          "metadata": {},
          "output_type": "execute_result"
        }
      ],
      "source": [
        "df"
      ]
    },
    {
      "cell_type": "code",
      "execution_count": null,
      "id": "7613ccd0",
      "metadata": {
        "id": "7613ccd0",
        "outputId": "8b882ae7-5802-48f5-8cd7-7d04b9c4ed26"
      },
      "outputs": [
        {
          "data": {
            "text/plain": [
              "'12'"
            ]
          },
          "execution_count": 10,
          "metadata": {},
          "output_type": "execute_result"
        }
      ],
      "source": [
        "\n",
        "def month(x):\n",
        "    return x.split('-')[1]\n",
        "month('1980-12-12')\n",
        "\n",
        "\n",
        "\n"
      ]
    },
    {
      "cell_type": "code",
      "execution_count": null,
      "id": "ced46720",
      "metadata": {
        "id": "ced46720",
        "outputId": "378e4879-3597-47d7-fb01-975916f303bd"
      },
      "outputs": [
        {
          "data": {
            "text/plain": [
              "'1980'"
            ]
          },
          "execution_count": 11,
          "metadata": {},
          "output_type": "execute_result"
        }
      ],
      "source": [
        "def year(x):\n",
        "  return x.split('-')[0]\n",
        "year('1980-12-12')"
      ]
    },
    {
      "cell_type": "code",
      "execution_count": null,
      "id": "b7a38d3e",
      "metadata": {
        "id": "b7a38d3e",
        "outputId": "5e9318fc-25dc-4592-c001-b1df099ab231"
      },
      "outputs": [
        {
          "data": {
            "text/html": [
              "<div>\n",
              "<style scoped>\n",
              "    .dataframe tbody tr th:only-of-type {\n",
              "        vertical-align: middle;\n",
              "    }\n",
              "\n",
              "    .dataframe tbody tr th {\n",
              "        vertical-align: top;\n",
              "    }\n",
              "\n",
              "    .dataframe thead th {\n",
              "        text-align: right;\n",
              "    }\n",
              "</style>\n",
              "<table border=\"1\" class=\"dataframe\">\n",
              "  <thead>\n",
              "    <tr style=\"text-align: right;\">\n",
              "      <th></th>\n",
              "      <th>Date</th>\n",
              "      <th>Open</th>\n",
              "      <th>High</th>\n",
              "      <th>Low</th>\n",
              "      <th>Close</th>\n",
              "      <th>Volume</th>\n",
              "      <th>Dividends</th>\n",
              "      <th>Stock Splits</th>\n",
              "      <th>year</th>\n",
              "      <th>month</th>\n",
              "    </tr>\n",
              "  </thead>\n",
              "  <tbody>\n",
              "    <tr>\n",
              "      <th>0</th>\n",
              "      <td>1980-12-12</td>\n",
              "      <td>0.100453</td>\n",
              "      <td>0.100890</td>\n",
              "      <td>0.100453</td>\n",
              "      <td>0.100453</td>\n",
              "      <td>469033600</td>\n",
              "      <td>0.0</td>\n",
              "      <td>0.0</td>\n",
              "      <td>1980</td>\n",
              "      <td>12</td>\n",
              "    </tr>\n",
              "    <tr>\n",
              "      <th>1</th>\n",
              "      <td>1980-12-15</td>\n",
              "      <td>0.095649</td>\n",
              "      <td>0.095649</td>\n",
              "      <td>0.095213</td>\n",
              "      <td>0.095213</td>\n",
              "      <td>175884800</td>\n",
              "      <td>0.0</td>\n",
              "      <td>0.0</td>\n",
              "      <td>1980</td>\n",
              "      <td>12</td>\n",
              "    </tr>\n",
              "    <tr>\n",
              "      <th>2</th>\n",
              "      <td>1980-12-16</td>\n",
              "      <td>0.088661</td>\n",
              "      <td>0.088661</td>\n",
              "      <td>0.088224</td>\n",
              "      <td>0.088224</td>\n",
              "      <td>105728000</td>\n",
              "      <td>0.0</td>\n",
              "      <td>0.0</td>\n",
              "      <td>1980</td>\n",
              "      <td>12</td>\n",
              "    </tr>\n",
              "    <tr>\n",
              "      <th>3</th>\n",
              "      <td>1980-12-17</td>\n",
              "      <td>0.090408</td>\n",
              "      <td>0.090845</td>\n",
              "      <td>0.090408</td>\n",
              "      <td>0.090408</td>\n",
              "      <td>86441600</td>\n",
              "      <td>0.0</td>\n",
              "      <td>0.0</td>\n",
              "      <td>1980</td>\n",
              "      <td>12</td>\n",
              "    </tr>\n",
              "    <tr>\n",
              "      <th>4</th>\n",
              "      <td>1980-12-18</td>\n",
              "      <td>0.093029</td>\n",
              "      <td>0.093466</td>\n",
              "      <td>0.093029</td>\n",
              "      <td>0.093029</td>\n",
              "      <td>73449600</td>\n",
              "      <td>0.0</td>\n",
              "      <td>0.0</td>\n",
              "      <td>1980</td>\n",
              "      <td>12</td>\n",
              "    </tr>\n",
              "    <tr>\n",
              "      <th>...</th>\n",
              "      <td>...</td>\n",
              "      <td>...</td>\n",
              "      <td>...</td>\n",
              "      <td>...</td>\n",
              "      <td>...</td>\n",
              "      <td>...</td>\n",
              "      <td>...</td>\n",
              "      <td>...</td>\n",
              "      <td>...</td>\n",
              "      <td>...</td>\n",
              "    </tr>\n",
              "    <tr>\n",
              "      <th>10348</th>\n",
              "      <td>2021-12-28</td>\n",
              "      <td>180.160004</td>\n",
              "      <td>181.330002</td>\n",
              "      <td>178.529999</td>\n",
              "      <td>179.289993</td>\n",
              "      <td>79144300</td>\n",
              "      <td>0.0</td>\n",
              "      <td>0.0</td>\n",
              "      <td>2021</td>\n",
              "      <td>12</td>\n",
              "    </tr>\n",
              "    <tr>\n",
              "      <th>10349</th>\n",
              "      <td>2021-12-29</td>\n",
              "      <td>179.330002</td>\n",
              "      <td>180.630005</td>\n",
              "      <td>178.139999</td>\n",
              "      <td>179.380005</td>\n",
              "      <td>62348900</td>\n",
              "      <td>0.0</td>\n",
              "      <td>0.0</td>\n",
              "      <td>2021</td>\n",
              "      <td>12</td>\n",
              "    </tr>\n",
              "    <tr>\n",
              "      <th>10350</th>\n",
              "      <td>2021-12-30</td>\n",
              "      <td>179.470001</td>\n",
              "      <td>180.570007</td>\n",
              "      <td>178.089996</td>\n",
              "      <td>178.199997</td>\n",
              "      <td>59773000</td>\n",
              "      <td>0.0</td>\n",
              "      <td>0.0</td>\n",
              "      <td>2021</td>\n",
              "      <td>12</td>\n",
              "    </tr>\n",
              "    <tr>\n",
              "      <th>10351</th>\n",
              "      <td>2021-12-31</td>\n",
              "      <td>178.089996</td>\n",
              "      <td>179.229996</td>\n",
              "      <td>177.259995</td>\n",
              "      <td>177.570007</td>\n",
              "      <td>64025500</td>\n",
              "      <td>0.0</td>\n",
              "      <td>0.0</td>\n",
              "      <td>2021</td>\n",
              "      <td>12</td>\n",
              "    </tr>\n",
              "    <tr>\n",
              "      <th>10352</th>\n",
              "      <td>2022-01-03</td>\n",
              "      <td>177.830002</td>\n",
              "      <td>182.880005</td>\n",
              "      <td>177.710007</td>\n",
              "      <td>182.009995</td>\n",
              "      <td>104487900</td>\n",
              "      <td>0.0</td>\n",
              "      <td>0.0</td>\n",
              "      <td>2022</td>\n",
              "      <td>01</td>\n",
              "    </tr>\n",
              "  </tbody>\n",
              "</table>\n",
              "<p>10353 rows × 10 columns</p>\n",
              "</div>"
            ],
            "text/plain": [
              "             Date        Open        High         Low       Close     Volume  \\\n",
              "0      1980-12-12    0.100453    0.100890    0.100453    0.100453  469033600   \n",
              "1      1980-12-15    0.095649    0.095649    0.095213    0.095213  175884800   \n",
              "2      1980-12-16    0.088661    0.088661    0.088224    0.088224  105728000   \n",
              "3      1980-12-17    0.090408    0.090845    0.090408    0.090408   86441600   \n",
              "4      1980-12-18    0.093029    0.093466    0.093029    0.093029   73449600   \n",
              "...           ...         ...         ...         ...         ...        ...   \n",
              "10348  2021-12-28  180.160004  181.330002  178.529999  179.289993   79144300   \n",
              "10349  2021-12-29  179.330002  180.630005  178.139999  179.380005   62348900   \n",
              "10350  2021-12-30  179.470001  180.570007  178.089996  178.199997   59773000   \n",
              "10351  2021-12-31  178.089996  179.229996  177.259995  177.570007   64025500   \n",
              "10352  2022-01-03  177.830002  182.880005  177.710007  182.009995  104487900   \n",
              "\n",
              "       Dividends  Stock Splits  year month  \n",
              "0            0.0           0.0  1980    12  \n",
              "1            0.0           0.0  1980    12  \n",
              "2            0.0           0.0  1980    12  \n",
              "3            0.0           0.0  1980    12  \n",
              "4            0.0           0.0  1980    12  \n",
              "...          ...           ...   ...   ...  \n",
              "10348        0.0           0.0  2021    12  \n",
              "10349        0.0           0.0  2021    12  \n",
              "10350        0.0           0.0  2021    12  \n",
              "10351        0.0           0.0  2021    12  \n",
              "10352        0.0           0.0  2022    01  \n",
              "\n",
              "[10353 rows x 10 columns]"
            ]
          },
          "execution_count": 12,
          "metadata": {},
          "output_type": "execute_result"
        }
      ],
      "source": [
        "df['year']=df['Date'].apply(year)\n",
        "df['month']=df['Date'].apply(month)\n",
        "df"
      ]
    },
    {
      "cell_type": "code",
      "execution_count": null,
      "id": "5fa2a308",
      "metadata": {
        "id": "5fa2a308",
        "outputId": "af3cabb3-24de-43f9-a7d2-e8f79685d168"
      },
      "outputs": [
        {
          "data": {
            "text/plain": [
              "array([12,  1,  2,  3,  4,  5,  6,  7,  8,  9, 10, 11])"
            ]
          },
          "execution_count": 17,
          "metadata": {},
          "output_type": "execute_result"
        }
      ],
      "source": [
        "#Savoir tous les mois figurant dans le dataset/ L'attribut unique est ajouté afin d'éviter la répétition \n",
        "df['month'].unique()"
      ]
    },
    {
      "cell_type": "code",
      "execution_count": null,
      "id": "be3095f6",
      "metadata": {
        "id": "be3095f6",
        "outputId": "1069cc7e-275f-4ed2-e638-25618687f8cf"
      },
      "outputs": [
        {
          "data": {
            "text/plain": [
              "array([1980, 1981, 1982, 1983, 1984, 1985, 1986, 1987, 1988, 1989, 1990,\n",
              "       1991, 1992, 1993, 1994, 1995, 1996, 1997, 1998, 1999, 2000, 2001,\n",
              "       2002, 2003, 2004, 2005, 2006, 2007, 2008, 2009, 2010, 2011, 2012,\n",
              "       2013, 2014, 2015, 2016, 2017, 2018, 2019, 2020, 2021, 2022])"
            ]
          },
          "execution_count": 18,
          "metadata": {},
          "output_type": "execute_result"
        }
      ],
      "source": [
        "#Savoir les années figurantes dans le dataset \n",
        "df['year'].unique()"
      ]
    },
    {
      "cell_type": "code",
      "execution_count": null,
      "id": "9adca2ce",
      "metadata": {
        "id": "9adca2ce",
        "outputId": "036aa4d7-7102-4f0a-f6e7-4e1c944af9d0"
      },
      "outputs": [
        {
          "data": {
            "text/plain": [
              "Date             object\n",
              "Open            float64\n",
              "High            float64\n",
              "Low             float64\n",
              "Close           float64\n",
              "Volume            int64\n",
              "Dividends       float64\n",
              "Stock Splits    float64\n",
              "year              int32\n",
              "month             int32\n",
              "dtype: object"
            ]
          },
          "execution_count": 19,
          "metadata": {},
          "output_type": "execute_result"
        }
      ],
      "source": [
        "df.dtypes"
      ]
    },
    {
      "cell_type": "code",
      "execution_count": null,
      "id": "b350de81",
      "metadata": {
        "id": "b350de81"
      },
      "outputs": [],
      "source": [
        "#Changer le type de la variable Month \n",
        "df[\"year\"]=df['year'].astype(int)\n",
        "df[\"month\"]=df['month'].astype(int)"
      ]
    },
    {
      "cell_type": "code",
      "execution_count": null,
      "id": "c36bdd2d",
      "metadata": {
        "id": "c36bdd2d",
        "outputId": "b1a10ba2-0740-4fdc-a227-d12ab7bc4d6d"
      },
      "outputs": [
        {
          "data": {
            "text/plain": [
              "Date             object\n",
              "Open            float64\n",
              "High            float64\n",
              "Low             float64\n",
              "Close           float64\n",
              "Volume            int64\n",
              "Dividends       float64\n",
              "Stock Splits    float64\n",
              "year              int32\n",
              "month             int32\n",
              "dtype: object"
            ]
          },
          "execution_count": 21,
          "metadata": {},
          "output_type": "execute_result"
        }
      ],
      "source": [
        "df.dtypes"
      ]
    },
    {
      "cell_type": "code",
      "execution_count": null,
      "id": "2602c496",
      "metadata": {
        "id": "2602c496",
        "outputId": "50fc9899-46de-4897-d26f-465d7b86c242"
      },
      "outputs": [
        {
          "data": {
            "text/plain": [
              "<Figure size 1440x1080 with 0 Axes>"
            ]
          },
          "execution_count": 22,
          "metadata": {},
          "output_type": "execute_result"
        },
        {
          "data": {
            "image/png": "[encoded data removed]",
            "text/plain": [
              "<Figure size 432x288 with 1 Axes>"
            ]
          },
          "metadata": {
            "needs_background": "light"
          },
          "output_type": "display_data"
        },
        {
          "data": {
            "text/plain": [
              "<Figure size 1440x1080 with 0 Axes>"
            ]
          },
          "metadata": {},
          "output_type": "display_data"
        }
      ],
      "source": [
        "\n",
        "import matplotlib.pyplot as plt\n",
        "x = df['year'].to_list()\n",
        "s = 0\n",
        "l = []\n",
        "for i in df['year'].unique():\n",
        "    for j in x:\n",
        "        if i == j :\n",
        "            s +=1\n",
        "    l += [s]\n",
        "    s = 0\n",
        "#print(len(l)) \n",
        "m=0\n",
        "lm=[]\n",
        "c = 0\n",
        "for i in l:\n",
        "    for j in range(c,c+i):\n",
        "        m += df['Volume'].to_list()[j]\n",
        "    lm = lm + [m/i]\n",
        "    m = 0\n",
        "    c = c +i\n",
        "#print(lm)\n",
        "#plt.plot(df['years'].unique(),lm)\n",
        "plt.show()\n",
        "plt.bar(df['year'].unique(),lm)\n",
        "plt.figure(figsize=(20,15))\n"
      ]
    },
    {
      "cell_type": "markdown",
      "id": "c0cf8510",
      "metadata": {
        "id": "c0cf8510"
      },
      "source": [
        "# Visualiser la variation du meilleur prix Moyen atteint par l'action de Apple en fonction du Temps "
      ]
    },
    {
      "cell_type": "code",
      "execution_count": null,
      "id": "d10d014b",
      "metadata": {
        "id": "d10d014b",
        "outputId": "7ca9e95e-7af6-42d6-bb5d-9b176cae8528",
        "scrolled": true
      },
      "outputs": [
        {
          "data": {
            "text/html": [
              "<div>\n",
              "<style scoped>\n",
              "    .dataframe tbody tr th:only-of-type {\n",
              "        vertical-align: middle;\n",
              "    }\n",
              "\n",
              "    .dataframe tbody tr th {\n",
              "        vertical-align: top;\n",
              "    }\n",
              "\n",
              "    .dataframe thead th {\n",
              "        text-align: right;\n",
              "    }\n",
              "</style>\n",
              "<table border=\"1\" class=\"dataframe\">\n",
              "  <thead>\n",
              "    <tr style=\"text-align: right;\">\n",
              "      <th></th>\n",
              "      <th>Date</th>\n",
              "      <th>Open</th>\n",
              "      <th>High</th>\n",
              "      <th>Low</th>\n",
              "      <th>Close</th>\n",
              "      <th>Volume</th>\n",
              "      <th>Dividends</th>\n",
              "      <th>Stock Splits</th>\n",
              "      <th>year</th>\n",
              "      <th>month</th>\n",
              "    </tr>\n",
              "  </thead>\n",
              "  <tbody>\n",
              "    <tr>\n",
              "      <th>0</th>\n",
              "      <td>1980-12-12</td>\n",
              "      <td>0.100453</td>\n",
              "      <td>0.100890</td>\n",
              "      <td>0.100453</td>\n",
              "      <td>0.100453</td>\n",
              "      <td>469033600</td>\n",
              "      <td>0.0</td>\n",
              "      <td>0.0</td>\n",
              "      <td>1980</td>\n",
              "      <td>12</td>\n",
              "    </tr>\n",
              "    <tr>\n",
              "      <th>1</th>\n",
              "      <td>1980-12-15</td>\n",
              "      <td>0.095649</td>\n",
              "      <td>0.095649</td>\n",
              "      <td>0.095213</td>\n",
              "      <td>0.095213</td>\n",
              "      <td>175884800</td>\n",
              "      <td>0.0</td>\n",
              "      <td>0.0</td>\n",
              "      <td>1980</td>\n",
              "      <td>12</td>\n",
              "    </tr>\n",
              "    <tr>\n",
              "      <th>2</th>\n",
              "      <td>1980-12-16</td>\n",
              "      <td>0.088661</td>\n",
              "      <td>0.088661</td>\n",
              "      <td>0.088224</td>\n",
              "      <td>0.088224</td>\n",
              "      <td>105728000</td>\n",
              "      <td>0.0</td>\n",
              "      <td>0.0</td>\n",
              "      <td>1980</td>\n",
              "      <td>12</td>\n",
              "    </tr>\n",
              "    <tr>\n",
              "      <th>3</th>\n",
              "      <td>1980-12-17</td>\n",
              "      <td>0.090408</td>\n",
              "      <td>0.090845</td>\n",
              "      <td>0.090408</td>\n",
              "      <td>0.090408</td>\n",
              "      <td>86441600</td>\n",
              "      <td>0.0</td>\n",
              "      <td>0.0</td>\n",
              "      <td>1980</td>\n",
              "      <td>12</td>\n",
              "    </tr>\n",
              "    <tr>\n",
              "      <th>4</th>\n",
              "      <td>1980-12-18</td>\n",
              "      <td>0.093029</td>\n",
              "      <td>0.093466</td>\n",
              "      <td>0.093029</td>\n",
              "      <td>0.093029</td>\n",
              "      <td>73449600</td>\n",
              "      <td>0.0</td>\n",
              "      <td>0.0</td>\n",
              "      <td>1980</td>\n",
              "      <td>12</td>\n",
              "    </tr>\n",
              "    <tr>\n",
              "      <th>...</th>\n",
              "      <td>...</td>\n",
              "      <td>...</td>\n",
              "      <td>...</td>\n",
              "      <td>...</td>\n",
              "      <td>...</td>\n",
              "      <td>...</td>\n",
              "      <td>...</td>\n",
              "      <td>...</td>\n",
              "      <td>...</td>\n",
              "      <td>...</td>\n",
              "    </tr>\n",
              "    <tr>\n",
              "      <th>10348</th>\n",
              "      <td>2021-12-28</td>\n",
              "      <td>180.160004</td>\n",
              "      <td>181.330002</td>\n",
              "      <td>178.529999</td>\n",
              "      <td>179.289993</td>\n",
              "      <td>79144300</td>\n",
              "      <td>0.0</td>\n",
              "      <td>0.0</td>\n",
              "      <td>2021</td>\n",
              "      <td>12</td>\n",
              "    </tr>\n",
              "    <tr>\n",
              "      <th>10349</th>\n",
              "      <td>2021-12-29</td>\n",
              "      <td>179.330002</td>\n",
              "      <td>180.630005</td>\n",
              "      <td>178.139999</td>\n",
              "      <td>179.380005</td>\n",
              "      <td>62348900</td>\n",
              "      <td>0.0</td>\n",
              "      <td>0.0</td>\n",
              "      <td>2021</td>\n",
              "      <td>12</td>\n",
              "    </tr>\n",
              "    <tr>\n",
              "      <th>10350</th>\n",
              "      <td>2021-12-30</td>\n",
              "      <td>179.470001</td>\n",
              "      <td>180.570007</td>\n",
              "      <td>178.089996</td>\n",
              "      <td>178.199997</td>\n",
              "      <td>59773000</td>\n",
              "      <td>0.0</td>\n",
              "      <td>0.0</td>\n",
              "      <td>2021</td>\n",
              "      <td>12</td>\n",
              "    </tr>\n",
              "    <tr>\n",
              "      <th>10351</th>\n",
              "      <td>2021-12-31</td>\n",
              "      <td>178.089996</td>\n",
              "      <td>179.229996</td>\n",
              "      <td>177.259995</td>\n",
              "      <td>177.570007</td>\n",
              "      <td>64025500</td>\n",
              "      <td>0.0</td>\n",
              "      <td>0.0</td>\n",
              "      <td>2021</td>\n",
              "      <td>12</td>\n",
              "    </tr>\n",
              "    <tr>\n",
              "      <th>10352</th>\n",
              "      <td>2022-01-03</td>\n",
              "      <td>177.830002</td>\n",
              "      <td>182.880005</td>\n",
              "      <td>177.710007</td>\n",
              "      <td>182.009995</td>\n",
              "      <td>104487900</td>\n",
              "      <td>0.0</td>\n",
              "      <td>0.0</td>\n",
              "      <td>2022</td>\n",
              "      <td>1</td>\n",
              "    </tr>\n",
              "  </tbody>\n",
              "</table>\n",
              "<p>10353 rows × 10 columns</p>\n",
              "</div>"
            ],
            "text/plain": [
              "             Date        Open        High         Low       Close     Volume  \\\n",
              "0      1980-12-12    0.100453    0.100890    0.100453    0.100453  469033600   \n",
              "1      1980-12-15    0.095649    0.095649    0.095213    0.095213  175884800   \n",
              "2      1980-12-16    0.088661    0.088661    0.088224    0.088224  105728000   \n",
              "3      1980-12-17    0.090408    0.090845    0.090408    0.090408   86441600   \n",
              "4      1980-12-18    0.093029    0.093466    0.093029    0.093029   73449600   \n",
              "...           ...         ...         ...         ...         ...        ...   \n",
              "10348  2021-12-28  180.160004  181.330002  178.529999  179.289993   79144300   \n",
              "10349  2021-12-29  179.330002  180.630005  178.139999  179.380005   62348900   \n",
              "10350  2021-12-30  179.470001  180.570007  178.089996  178.199997   59773000   \n",
              "10351  2021-12-31  178.089996  179.229996  177.259995  177.570007   64025500   \n",
              "10352  2022-01-03  177.830002  182.880005  177.710007  182.009995  104487900   \n",
              "\n",
              "       Dividends  Stock Splits  year  month  \n",
              "0            0.0           0.0  1980     12  \n",
              "1            0.0           0.0  1980     12  \n",
              "2            0.0           0.0  1980     12  \n",
              "3            0.0           0.0  1980     12  \n",
              "4            0.0           0.0  1980     12  \n",
              "...          ...           ...   ...    ...  \n",
              "10348        0.0           0.0  2021     12  \n",
              "10349        0.0           0.0  2021     12  \n",
              "10350        0.0           0.0  2021     12  \n",
              "10351        0.0           0.0  2021     12  \n",
              "10352        0.0           0.0  2022      1  \n",
              "\n",
              "[10353 rows x 10 columns]"
            ]
          },
          "execution_count": 23,
          "metadata": {},
          "output_type": "execute_result"
        }
      ],
      "source": [
        "df"
      ]
    },
    {
      "cell_type": "code",
      "execution_count": null,
      "id": "311feabb",
      "metadata": {
        "id": "311feabb",
        "outputId": "e9706c95-a2bb-4479-a1d7-a4103e8ebbf8"
      },
      "outputs": [
        {
          "data": {
            "text/plain": [
              "Text(0.5, 1.0, \"Le taux Moyen du High en chaque année depuis l'introduction à la bourse\")"
            ]
          },
          "execution_count": 24,
          "metadata": {},
          "output_type": "execute_result"
        },
        {
          "data": {
            "image/png": "[encoded data removed]",
            "text/plain": [
              "<Figure size 1296x936 with 1 Axes>"
            ]
          },
          "metadata": {
            "needs_background": "light"
          },
          "output_type": "display_data"
        }
      ],
      "source": [
        "#On réalisera un algorithme calculant le moyen du \"High\" dans chaque année \n",
        "import matplotlib.pyplot as plt\n",
        "x = df['year'].to_list()\n",
        "s = 0\n",
        "l = []\n",
        "for i in df['year'].unique():\n",
        "    for j in x:\n",
        "        if i == j :\n",
        "            s +=1\n",
        "    l += [s]\n",
        "    s = 0\n",
        "#print(len(l)) \n",
        "m=0\n",
        "lm=[]\n",
        "c = 0\n",
        "for i in l:\n",
        "    for j in range(c,c+i):\n",
        "        m += df['High'].to_list()[j]\n",
        "    lm = lm + [m/i]\n",
        "    m = 0\n",
        "    c = c +i\n",
        "la=lm    \n",
        "plt.figure(figsize=(18,13))\n",
        "plt.plot(df['year'].unique(),la,linewidth=4 )\n",
        "plt.title(\"Le taux Moyen du High en chaque année depuis l'introduction à la bourse\",fontsize=50)\n",
        "\n"
      ]
    },
    {
      "cell_type": "code",
      "execution_count": null,
      "id": "89728779",
      "metadata": {
        "id": "89728779",
        "outputId": "9581c74f-4146-4683-c7fc-8d0189d8c4f2"
      },
      "outputs": [
        {
          "data": {
            "text/plain": [
              "Text(0.5, 1.0, 'Graphe montrant les variations du High et Low en fonction du temps')"
            ]
          },
          "execution_count": 25,
          "metadata": {},
          "output_type": "execute_result"
        },
        {
          "data": {
            "image/png": "[encoded data removed]",
            "text/plain": [
              "<Figure size 1296x936 with 1 Axes>"
            ]
          },
          "metadata": {
            "needs_background": "light"
          },
          "output_type": "display_data"
        }
      ],
      "source": [
        "#On réalisera un algorithme calculant le moyen du \"High\" dans chaque année \n",
        "import matplotlib.pyplot as plt\n",
        "x = df['year'].to_list()\n",
        "s = 0\n",
        "l = []\n",
        "for i in df['year'].unique():\n",
        "    for j in x:\n",
        "        if i == j :\n",
        "            s +=1\n",
        "    l += [s]\n",
        "    s = 0\n",
        "#print(len(l)) \n",
        "m=0\n",
        "lm=[]\n",
        "c = 0\n",
        "for i in l:\n",
        "    for j in range(c,c+i):\n",
        "        m += df['Low'].to_list()[j]\n",
        "    lm = lm + [m/i]\n",
        "    m = 0\n",
        "    c = c +i\n",
        "plt.figure(figsize=(18,13))\n",
        "plt.plot(df['year'].unique(),lm,linewidth=1,color='black')\n",
        "plt.plot(df['year'].unique(),la,linewidth=1,color='red')\n",
        "plt.title('Graphe montrant les variations du High et Low en fonction du temps',fontsize=30)\n",
        "\n"
      ]
    },
    {
      "cell_type": "markdown",
      "id": "627c5b0f",
      "metadata": {
        "id": "627c5b0f"
      },
      "source": [
        "# Etude des actions d'Apple durant les 2 dernières années "
      ]
    },
    {
      "cell_type": "code",
      "execution_count": null,
      "id": "a286e1ce",
      "metadata": {
        "id": "a286e1ce",
        "outputId": "d6ea679f-d025-4c7a-9210-5f1737383bb9"
      },
      "outputs": [
        {
          "data": {
            "text/html": [
              "<div>\n",
              "<style scoped>\n",
              "    .dataframe tbody tr th:only-of-type {\n",
              "        vertical-align: middle;\n",
              "    }\n",
              "\n",
              "    .dataframe tbody tr th {\n",
              "        vertical-align: top;\n",
              "    }\n",
              "\n",
              "    .dataframe thead th {\n",
              "        text-align: right;\n",
              "    }\n",
              "</style>\n",
              "<table border=\"1\" class=\"dataframe\">\n",
              "  <thead>\n",
              "    <tr style=\"text-align: right;\">\n",
              "      <th></th>\n",
              "      <th>Unnamed: 0</th>\n",
              "      <th>Date</th>\n",
              "      <th>Open</th>\n",
              "      <th>High</th>\n",
              "      <th>Low</th>\n",
              "      <th>Close</th>\n",
              "      <th>Volume</th>\n",
              "      <th>Dividends</th>\n",
              "      <th>Stock Splits</th>\n",
              "      <th>year</th>\n",
              "      <th>month</th>\n",
              "    </tr>\n",
              "  </thead>\n",
              "  <tbody>\n",
              "    <tr>\n",
              "      <th>0</th>\n",
              "      <td>9848</td>\n",
              "      <td>2020-01-03</td>\n",
              "      <td>73.200167</td>\n",
              "      <td>74.045114</td>\n",
              "      <td>73.040047</td>\n",
              "      <td>73.269142</td>\n",
              "      <td>146322800</td>\n",
              "      <td>0.0</td>\n",
              "      <td>0.0</td>\n",
              "      <td>2020</td>\n",
              "      <td>1</td>\n",
              "    </tr>\n",
              "    <tr>\n",
              "      <th>1</th>\n",
              "      <td>9849</td>\n",
              "      <td>2020-01-06</td>\n",
              "      <td>72.372486</td>\n",
              "      <td>73.892405</td>\n",
              "      <td>72.116289</td>\n",
              "      <td>73.852989</td>\n",
              "      <td>118387200</td>\n",
              "      <td>0.0</td>\n",
              "      <td>0.0</td>\n",
              "      <td>2020</td>\n",
              "      <td>1</td>\n",
              "    </tr>\n",
              "    <tr>\n",
              "      <th>2</th>\n",
              "      <td>9850</td>\n",
              "      <td>2020-01-07</td>\n",
              "      <td>73.862843</td>\n",
              "      <td>74.123964</td>\n",
              "      <td>73.281482</td>\n",
              "      <td>73.505653</td>\n",
              "      <td>108872000</td>\n",
              "      <td>0.0</td>\n",
              "      <td>0.0</td>\n",
              "      <td>2020</td>\n",
              "      <td>1</td>\n",
              "    </tr>\n",
              "    <tr>\n",
              "      <th>3</th>\n",
              "      <td>9851</td>\n",
              "      <td>2020-01-08</td>\n",
              "      <td>73.202645</td>\n",
              "      <td>74.996006</td>\n",
              "      <td>73.202645</td>\n",
              "      <td>74.688080</td>\n",
              "      <td>132079200</td>\n",
              "      <td>0.0</td>\n",
              "      <td>0.0</td>\n",
              "      <td>2020</td>\n",
              "      <td>1</td>\n",
              "    </tr>\n",
              "    <tr>\n",
              "      <th>4</th>\n",
              "      <td>9852</td>\n",
              "      <td>2020-01-09</td>\n",
              "      <td>75.685763</td>\n",
              "      <td>76.471591</td>\n",
              "      <td>75.429574</td>\n",
              "      <td>76.274521</td>\n",
              "      <td>170108400</td>\n",
              "      <td>0.0</td>\n",
              "      <td>0.0</td>\n",
              "      <td>2020</td>\n",
              "      <td>1</td>\n",
              "    </tr>\n",
              "    <tr>\n",
              "      <th>...</th>\n",
              "      <td>...</td>\n",
              "      <td>...</td>\n",
              "      <td>...</td>\n",
              "      <td>...</td>\n",
              "      <td>...</td>\n",
              "      <td>...</td>\n",
              "      <td>...</td>\n",
              "      <td>...</td>\n",
              "      <td>...</td>\n",
              "      <td>...</td>\n",
              "      <td>...</td>\n",
              "    </tr>\n",
              "    <tr>\n",
              "      <th>500</th>\n",
              "      <td>10348</td>\n",
              "      <td>2021-12-28</td>\n",
              "      <td>180.160004</td>\n",
              "      <td>181.330002</td>\n",
              "      <td>178.529999</td>\n",
              "      <td>179.289993</td>\n",
              "      <td>79144300</td>\n",
              "      <td>0.0</td>\n",
              "      <td>0.0</td>\n",
              "      <td>2021</td>\n",
              "      <td>12</td>\n",
              "    </tr>\n",
              "    <tr>\n",
              "      <th>501</th>\n",
              "      <td>10349</td>\n",
              "      <td>2021-12-29</td>\n",
              "      <td>179.330002</td>\n",
              "      <td>180.630005</td>\n",
              "      <td>178.139999</td>\n",
              "      <td>179.380005</td>\n",
              "      <td>62348900</td>\n",
              "      <td>0.0</td>\n",
              "      <td>0.0</td>\n",
              "      <td>2021</td>\n",
              "      <td>12</td>\n",
              "    </tr>\n",
              "    <tr>\n",
              "      <th>502</th>\n",
              "      <td>10350</td>\n",
              "      <td>2021-12-30</td>\n",
              "      <td>179.470001</td>\n",
              "      <td>180.570007</td>\n",
              "      <td>178.089996</td>\n",
              "      <td>178.199997</td>\n",
              "      <td>59773000</td>\n",
              "      <td>0.0</td>\n",
              "      <td>0.0</td>\n",
              "      <td>2021</td>\n",
              "      <td>12</td>\n",
              "    </tr>\n",
              "    <tr>\n",
              "      <th>503</th>\n",
              "      <td>10351</td>\n",
              "      <td>2021-12-31</td>\n",
              "      <td>178.089996</td>\n",
              "      <td>179.229996</td>\n",
              "      <td>177.259995</td>\n",
              "      <td>177.570007</td>\n",
              "      <td>64025500</td>\n",
              "      <td>0.0</td>\n",
              "      <td>0.0</td>\n",
              "      <td>2021</td>\n",
              "      <td>12</td>\n",
              "    </tr>\n",
              "    <tr>\n",
              "      <th>504</th>\n",
              "      <td>10352</td>\n",
              "      <td>2022-01-03</td>\n",
              "      <td>177.830002</td>\n",
              "      <td>182.880005</td>\n",
              "      <td>177.710007</td>\n",
              "      <td>182.009995</td>\n",
              "      <td>104487900</td>\n",
              "      <td>0.0</td>\n",
              "      <td>0.0</td>\n",
              "      <td>2022</td>\n",
              "      <td>1</td>\n",
              "    </tr>\n",
              "  </tbody>\n",
              "</table>\n",
              "<p>505 rows × 11 columns</p>\n",
              "</div>"
            ],
            "text/plain": [
              "     Unnamed: 0        Date        Open        High         Low       Close  \\\n",
              "0          9848  2020-01-03   73.200167   74.045114   73.040047   73.269142   \n",
              "1          9849  2020-01-06   72.372486   73.892405   72.116289   73.852989   \n",
              "2          9850  2020-01-07   73.862843   74.123964   73.281482   73.505653   \n",
              "3          9851  2020-01-08   73.202645   74.996006   73.202645   74.688080   \n",
              "4          9852  2020-01-09   75.685763   76.471591   75.429574   76.274521   \n",
              "..          ...         ...         ...         ...         ...         ...   \n",
              "500       10348  2021-12-28  180.160004  181.330002  178.529999  179.289993   \n",
              "501       10349  2021-12-29  179.330002  180.630005  178.139999  179.380005   \n",
              "502       10350  2021-12-30  179.470001  180.570007  178.089996  178.199997   \n",
              "503       10351  2021-12-31  178.089996  179.229996  177.259995  177.570007   \n",
              "504       10352  2022-01-03  177.830002  182.880005  177.710007  182.009995   \n",
              "\n",
              "        Volume  Dividends  Stock Splits  year  month  \n",
              "0    146322800        0.0           0.0  2020      1  \n",
              "1    118387200        0.0           0.0  2020      1  \n",
              "2    108872000        0.0           0.0  2020      1  \n",
              "3    132079200        0.0           0.0  2020      1  \n",
              "4    170108400        0.0           0.0  2020      1  \n",
              "..         ...        ...           ...   ...    ...  \n",
              "500   79144300        0.0           0.0  2021     12  \n",
              "501   62348900        0.0           0.0  2021     12  \n",
              "502   59773000        0.0           0.0  2021     12  \n",
              "503   64025500        0.0           0.0  2021     12  \n",
              "504  104487900        0.0           0.0  2022      1  \n",
              "\n",
              "[505 rows x 11 columns]"
            ]
          },
          "execution_count": 53,
          "metadata": {},
          "output_type": "execute_result"
        }
      ],
      "source": [
        "df=pd.read_csv(\"Datadyalapple (1).csv\")\n",
        "df\n",
        "\n",
        "\n"
      ]
    },
    {
      "cell_type": "code",
      "execution_count": null,
      "id": "35161557",
      "metadata": {
        "id": "35161557",
        "outputId": "52c2bfee-f245-4e07-9cdc-d4914a763880"
      },
      "outputs": [
        {
          "data": {
            "text/plain": [
              "Unnamed: 0        int64\n",
              "Date             object\n",
              "Open            float64\n",
              "High            float64\n",
              "Low             float64\n",
              "Close           float64\n",
              "Volume            int64\n",
              "Dividends       float64\n",
              "Stock Splits    float64\n",
              "year              int64\n",
              "month             int64\n",
              "dtype: object"
            ]
          },
          "execution_count": 54,
          "metadata": {},
          "output_type": "execute_result"
        }
      ],
      "source": [
        "df.dtypes"
      ]
    },
    {
      "cell_type": "code",
      "execution_count": null,
      "id": "9296a9eb",
      "metadata": {
        "id": "9296a9eb",
        "outputId": "3fba041e-8d6d-46c7-d806-085d9f2d6f82"
      },
      "outputs": [
        {
          "data": {
            "text/plain": [
              "Unnamed: 0               int64\n",
              "Date            datetime64[ns]\n",
              "Open                   float64\n",
              "High                   float64\n",
              "Low                    float64\n",
              "Close                  float64\n",
              "Volume                   int64\n",
              "Dividends              float64\n",
              "Stock Splits           float64\n",
              "year                     int64\n",
              "month                    int64\n",
              "dtype: object"
            ]
          },
          "execution_count": 55,
          "metadata": {},
          "output_type": "execute_result"
        }
      ],
      "source": [
        "df['Date']=pd.to_datetime(df['Date'])\n",
        "df.dtypes"
      ]
    },
    {
      "cell_type": "code",
      "execution_count": null,
      "id": "636204de",
      "metadata": {
        "id": "636204de",
        "outputId": "05a74cc2-183a-4885-d73b-9e5bcff3992f"
      },
      "outputs": [
        {
          "data": {
            "text/plain": [
              "[<matplotlib.lines.Line2D at 0x1ebed7fe790>]"
            ]
          },
          "execution_count": 56,
          "metadata": {},
          "output_type": "execute_result"
        },
        {
          "data": {
            "image/png": "[encoded data removed]",
            "text/plain": [
              "<Figure size 648x432 with 1 Axes>"
            ]
          },
          "metadata": {
            "needs_background": "light"
          },
          "output_type": "display_data"
        }
      ],
      "source": [
        "plt.figure(figsize=(9,6))\n",
        "plt.plot(df['Date'],df['Volume'])\n",
        "\n",
        "         "
      ]
    },
    {
      "cell_type": "code",
      "execution_count": null,
      "id": "a447f8ed",
      "metadata": {
        "id": "a447f8ed",
        "outputId": "d4fe6548-3118-4bb7-d88d-a74e0c426959"
      },
      "outputs": [
        {
          "data": {
            "image/png": "[encoded data removed]",
            "text/plain": [
              "<Figure size 648x432 with 1 Axes>"
            ]
          },
          "metadata": {
            "needs_background": "light"
          },
          "output_type": "display_data"
        }
      ],
      "source": [
        "plt.figure(figsize=(9,6))\n",
        "plt.plot(df['Date'],df['Open'],color='red')\n",
        "plt.plot(df['Date'],df['Close'],color='Black')\n",
        "plt.show()\n"
      ]
    },
    {
      "cell_type": "code",
      "execution_count": null,
      "id": "1bb206c5",
      "metadata": {
        "id": "1bb206c5",
        "outputId": "65ac754c-275d-4ec6-e1fe-4d7dbdc01b16"
      },
      "outputs": [
        {
          "data": {
            "image/png": "[encoded data removed]",
            "text/plain": [
              "<Figure size 648x432 with 1 Axes>"
            ]
          },
          "metadata": {
            "needs_background": "light"
          },
          "output_type": "display_data"
        }
      ],
      "source": [
        "plt.figure(figsize=(9,6))\n",
        "plt.plot(df['Date'],df['High'],color='red')\n",
        "plt.plot(df['Date'],df['Low'],color='Black')\n",
        "plt.show()"
      ]
    },
    {
      "cell_type": "code",
      "execution_count": null,
      "id": "d80768cb",
      "metadata": {
        "id": "d80768cb",
        "outputId": "2dd705f0-ceb3-4663-ba8d-f9c4d58ccf76"
      },
      "outputs": [
        {
          "data": {
            "image/png": "[encoded data removed]",
            "text/plain": [
              "<Figure size 720x432 with 1 Axes>"
            ]
          },
          "metadata": {
            "needs_background": "light"
          },
          "output_type": "display_data"
        }
      ],
      "source": [
        "plt.figure(figsize=(10,6))\n",
        "plt.scatter(df['Date'],df['Volume'], c ='red')\n",
        "plt.show()\n"
      ]
    },
    {
      "cell_type": "code",
      "execution_count": null,
      "id": "e26de702",
      "metadata": {
        "id": "e26de702",
        "outputId": "1cead7bb-cf27-4629-f58d-688e6401d0aa"
      },
      "outputs": [
        {
          "name": "stderr",
          "output_type": "stream",
          "text": [
            "C:\\Users\\MICRO\\AppData\\Local\\Temp/ipykernel_10464/759619319.py:5: SettingWithCopyWarning: \n",
            "A value is trying to be set on a copy of a slice from a DataFrame\n",
            "\n",
            "See the caveats in the documentation: https://pandas.pydata.org/pandas-docs/stable/user_guide/indexing.html#returning-a-view-versus-a-copy\n",
            "  df['Date'][i] = i\n"
          ]
        }
      ],
      "source": [
        "from sklearn.model_selection import train_test_split \n",
        "from sklearn.preprocessing import PolynomialFeatures\n",
        "from sklearn import linear_model\n",
        "for i in range(len(df['Date'])):\n",
        "    df['Date'][i] = i\n",
        "df['Date']\n",
        "\n",
        "X_train,X_test,Y_train,Y_test = train_test_split(df['Date'],df['Volume'])\n",
        "X_train_df, Y_train_df =pd.DataFrame(X_train), pd.DataFrame(Y_train)\n",
        "\n",
        "\n",
        "poly= PolynomialFeatures(degree = 2)\n",
        "X_train_poly = poly.fit_transform(X_train_df) \n",
        "\n",
        "model = linear_model.LinearRegression()\n",
        "model = model.fit(X_train_df, Y_train)\n",
        "coefficient = model.coef_\n",
        "intercept = model.intercept_\n",
        "\n",
        "\n",
        "\n"
      ]
    },
    {
      "cell_type": "code",
      "execution_count": null,
      "id": "12dabc68",
      "metadata": {
        "id": "12dabc68",
        "outputId": "388c160e-13ba-485d-859b-5e36a98e7676"
      },
      "outputs": [
        {
          "data": {
            "image/png": "[encoded data removed]",
            "text/plain": [
              "<Figure size 1080x720 with 1 Axes>"
            ]
          },
          "metadata": {
            "needs_background": "light"
          },
          "output_type": "display_data"
        }
      ],
      "source": [
        "X = pd.DataFrame(df['Date'])\n",
        "y = pd.DataFrame(df['Volume'])\n",
        "from sklearn.linear_model import LinearRegression\n",
        "X_forcast = X[:31].transform(lambda x: x + 504)\n",
        "lin_reg=LinearRegression()\n",
        "lin_reg.fit(X_train_df,Y_train_df)\n",
        "from sklearn.preprocessing import PolynomialFeatures\n",
        "poly_reg=PolynomialFeatures(degree=4)\n",
        "X_poly=poly_reg.fit_transform(X)\n",
        "poly_reg.fit(X_poly,y)\n",
        "lin_reg=LinearRegression()\n",
        "lin_reg.fit(X_poly,y)\n",
        "X_grid=np.arange(0,534,0.1)\n",
        "X_grid=X_grid.reshape((len(X_grid),1))\n",
        "#plt.scatter(X,y,color='red')\n",
        "plt.figure(figsize=(15,10))\n",
        "plt.scatter(X_train, Y_train, c=\"b\" , label = \"training points\")\n",
        "plt.scatter(X_test, Y_test, c=\"g\" , label = \"testing points\")\n",
        "plt.plot(X,lin_reg.predict(poly_reg.fit_transform(X)),color='red',linewidth=4)\n",
        "plt.plot(X_forcast,lin_reg.predict(poly_reg.fit_transform(X_forcast)),color='red',linewidth=4)\n",
        "plt.show()\n"
      ]
    },
    {
      "cell_type": "code",
      "execution_count": null,
      "id": "de89ed47",
      "metadata": {
        "id": "de89ed47"
      },
      "outputs": [],
      "source": []
    }
  ],
  "metadata": {
    "colab": {
      "provenance": []
    },
    "kernelspec": {
      "display_name": "Python 3 (ipykernel)",
      "language": "python",
      "name": "python3"
    },
    "language_info": {
      "codemirror_mode": {
        "name": "ipython",
        "version": 3
      },
      "file_extension": ".py",
      "mimetype": "text/x-python",
      "name": "python",
      "nbconvert_exporter": "python",
      "pygments_lexer": "ipython3",
      "version": "3.9.7"
    }
  },
  "nbformat": 4,
  "nbformat_minor": 5
}
